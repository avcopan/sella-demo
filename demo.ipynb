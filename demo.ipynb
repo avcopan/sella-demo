{
 "cells": [
  {
   "cell_type": "code",
   "execution_count": 1,
   "metadata": {},
   "outputs": [],
   "source": [
    "from typing import Optional\n",
    "\n",
    "import ase\n",
    "from ase.calculators.calculator import Calculator\n",
    "from sella import Constraints, Internals, Sella\n",
    "\n",
    "\n",
    "def sella_optimize(\n",
    "    atms_obj: ase.Atoms,\n",
    "    calc: Calculator,\n",
    "    order: int = 0,\n",
    "    ints_obj: Optional[Internals] = None,\n",
    "    in_place: bool = False,\n",
    ") -> ase.Atoms:\n",
    "    \"\"\"Optimize a geometry using Sella\n",
    "\n",
    "    :param atms_obj: An ASE Atoms object\n",
    "    :param calc: An ASE Calculator object\n",
    "    :param order: 0 = minimum | 1 = saddle point\n",
    "    :param ints_obj: A Sella Internals object, possibly involving constraints\n",
    "    :param in_place: Modify the atoms object in place?\n",
    "    \"\"\"\n",
    "    if not in_place:\n",
    "        atms_obj = atms_obj.copy()\n",
    "\n",
    "    atms_obj.calc = calc\n",
    "\n",
    "    # Initialize and run the optimization\n",
    "    dyn = Sella(\n",
    "        atms_obj, order=order, internal=(True if ints_obj is None else ints_obj)\n",
    "    )\n",
    "    dyn.run()\n",
    "\n",
    "    return atms_obj\n",
    "\n",
    "\n",
    "def sella_optimize_minimum(\n",
    "    atms_obj: ase.Atoms, calc: Calculator, in_place: bool = False\n",
    ") -> ase.Atoms:\n",
    "    \"\"\"Optimize a minimum-energy structure using Sella\n",
    "\n",
    "    :param atms_obj: An ASE Atoms object\n",
    "    :param calc: An ASE Calculator object\n",
    "    :param in_place: Modify the atoms object in place?\n",
    "    \"\"\"\n",
    "    return sella_optimize(atms_obj, calc, order=0, in_place=in_place)\n",
    "\n",
    "\n",
    "def sella_optimize_ts(\n",
    "    atms_obj: ase.Atoms, calc: Calculator, in_place: bool = False\n",
    ") -> ase.Atoms:\n",
    "    \"\"\"Optimize a TS/saddle-point structure using Sella\n",
    "\n",
    "    :param atms_obj: An ASE Atoms object\n",
    "    :param calc: An ASE Calculator object\n",
    "    :param in_place: Modify the atoms object in place?\n",
    "    \"\"\"\n",
    "    return sella_optimize(atms_obj, calc, order=1, in_place=in_place)\n",
    "\n",
    "\n",
    "def sella_optimize_constrained(\n",
    "    atms_obj: ase.Atoms,\n",
    "    calc: Calculator,\n",
    "    const_coos: Optional[list[tuple[int, ...]]] = None,\n",
    "    in_place: bool = False,\n",
    ") -> ase.Atoms:\n",
    "    \"\"\"Optimize a structure subject to internal coordinate constraints using Sella\n",
    "\n",
    "    :param atms_obj: An ASE Atoms object\n",
    "    :param calc: An ASE Calculator object\n",
    "    :param const_coos: Optionally, constrain a set of coordinates\n",
    "    :param in_place: Modify the atoms object in place?\n",
    "    \"\"\"\n",
    "    if not in_place:\n",
    "        atms_obj = atms_obj.copy()\n",
    "\n",
    "    # Set up constraints\n",
    "    const_obj = Constraints(atms_obj)\n",
    "    for coo in const_coos:\n",
    "        if len(coo) == 2:\n",
    "            const_obj.fix_bond(coo)\n",
    "        elif len(coo) == 3:\n",
    "            const_obj.fix_angle(coo)\n",
    "        elif len(coo) == 4:\n",
    "            const_obj.fix_dihedral(coo)\n",
    "\n",
    "    # Set up internal coordinates\n",
    "    ints_obj = Internals(atms_obj, cons=const_obj)\n",
    "    ints_obj.find_all_bonds()\n",
    "    ints_obj.find_all_angles()\n",
    "    ints_obj.find_all_dihedrals()\n",
    "\n",
    "    # Note: For whatever reason, the Atoms object must be identical to the one passed in\n",
    "    # to Constraints and Internals, so we *must* set in_place=True here\n",
    "    return sella_optimize(atms_obj, calc, ints_obj=ints_obj, in_place=True)"
   ]
  },
  {
   "cell_type": "code",
   "execution_count": 2,
   "metadata": {},
   "outputs": [
    {
     "name": "stderr",
     "output_type": "stream",
     "text": [
      "/home/avcopan/code/other/sella-demo/.pixi/envs/default/lib/python3.12/site-packages/tblite/ase.py:39: SyntaxWarning: invalid escape sequence '\\ '\n",
      "  \"\"\"\n"
     ]
    }
   ],
   "source": [
    "from tblite.ase import TBLite\n",
    "\n",
    "calc = TBLite(method=\"GFN1-xTB\", verbosity=0)\n",
    "\n",
    "file_name = \"mol.xyz\"\n",
    "inp_atms_obj = ase.io.read(file_name)"
   ]
  },
  {
   "cell_type": "code",
   "execution_count": 3,
   "metadata": {},
   "outputs": [
    {
     "name": "stderr",
     "output_type": "stream",
     "text": [
      "An NVIDIA GPU may be present on this machine, but a CUDA-enabled jaxlib is not installed. Falling back to cpu.\n"
     ]
    },
    {
     "name": "stdout",
     "output_type": "stream",
     "text": [
      "     Step     Time          Energy         fmax         cmax       rtrust          rho\n",
      "Sella   0 12:26:19     -168.047759       1.2245       0.0000       0.1000       1.0000\n"
     ]
    },
    {
     "name": "stderr",
     "output_type": "stream",
     "text": [
      "/home/avcopan/code/other/sella-demo/.pixi/envs/default/lib/python3.12/site-packages/ase/optimize/optimize.py:372: FutureWarning: force_consistent keyword is deprecated and will be ignored.  This will raise an error in future versions of ASE.\n",
      "  warnings.warn(\n"
     ]
    },
    {
     "name": "stdout",
     "output_type": "stream",
     "text": [
      "Sella   1 12:26:21     -168.069730       0.5523       0.0000       0.1000       0.7088\n",
      "Sella   2 12:26:21     -168.073385       0.1902       0.0000       0.1000       1.3600\n",
      "Sella   3 12:26:21     -168.074899       0.0727       0.0000       0.1000       1.2844\n",
      "Sella   4 12:26:21     -168.075541       0.0884       0.0000       0.1000       1.3959\n",
      "Sella   5 12:26:21     -168.075956       0.0367       0.0000       0.1000       1.4014\n"
     ]
    }
   ],
   "source": [
    "min_atms_obj = sella_optimize_minimum(inp_atms_obj.copy(), calc=calc)\n",
    "ase.io.write(file_name.replace(\".xyz\", \"_min.xyz\"), min_atms_obj)"
   ]
  },
  {
   "cell_type": "code",
   "execution_count": 4,
   "metadata": {},
   "outputs": [
    {
     "name": "stdout",
     "output_type": "stream",
     "text": [
      "     Step     Time          Energy         fmax         cmax       rtrust          rho\n",
      "Sella   0 12:26:21     -168.047759       1.2245       0.0000       0.1000       1.0000\n"
     ]
    },
    {
     "name": "stderr",
     "output_type": "stream",
     "text": [
      "/home/avcopan/code/other/sella-demo/.pixi/envs/default/lib/python3.12/site-packages/ase/optimize/optimize.py:372: FutureWarning: force_consistent keyword is deprecated and will be ignored.  This will raise an error in future versions of ASE.\n",
      "  warnings.warn(\n"
     ]
    },
    {
     "name": "stdout",
     "output_type": "stream",
     "text": [
      "Sella   1 12:26:22     -168.061872       0.2296       0.0000       0.1000       1.0502\n",
      "Sella   2 12:26:22     -168.059915       0.1937       0.0000       0.1000       0.6006\n",
      "Sella   3 12:26:22     -168.054443       0.1672       0.0000       0.1000       0.8271\n",
      "Sella   4 12:26:22     -168.045858       0.1598       0.0000       0.1000       0.9048\n",
      "Sella   5 12:26:23     -168.035285       0.1633       0.0000       0.1000       0.9396\n",
      "Sella   6 12:26:23     -168.023763       0.1526       0.0000       0.1150       0.9854\n",
      "Sella   7 12:26:23     -168.010935       0.1451       0.0000       0.1322       0.9761\n",
      "Sella   8 12:26:23     -167.997249       0.1313       0.0000       0.1521       0.9835\n",
      "Sella   9 12:26:24     -167.983205       0.1137       0.0000       0.1749       0.9868\n",
      "Sella  10 12:26:24     -167.969647       0.0914       0.0000       0.2011       0.9886\n",
      "Sella  11 12:26:24     -167.957596       0.0663       0.0000       0.2313       0.9952\n",
      "Sella  12 12:26:25     -167.947672       0.0435       0.0000       0.2313       1.0495\n"
     ]
    }
   ],
   "source": [
    "ts_atms_obj = sella_optimize_ts(inp_atms_obj.copy(), calc=calc)\n",
    "ase.io.write(file_name.replace(\".xyz\", \"_ts.xyz\"), ts_atms_obj)"
   ]
  },
  {
   "cell_type": "code",
   "execution_count": 5,
   "metadata": {},
   "outputs": [
    {
     "name": "stdout",
     "output_type": "stream",
     "text": [
      "     Step     Time          Energy         fmax         cmax       rtrust          rho\n",
      "Sella   0 12:26:25     -168.047759       1.2245       0.0000       0.1000       1.0000\n",
      "Sella   1 12:26:25     -168.064208       0.2618       0.0000       0.1000       0.8153\n",
      "Sella   2 12:26:25     -168.065380       0.1148       0.0000       0.1000       1.3584\n",
      "Sella   3 12:26:25     -168.066236       0.0918       0.0000       0.1000       1.4198\n",
      "Sella   4 12:26:25     -168.067023       0.1025       0.0000       0.1000       1.3931\n",
      "Sella   5 12:26:26     -168.067525       0.0641       0.0000       0.1000       1.3565\n",
      "Sella   6 12:26:26     -168.067757       0.0329       0.0000       0.1000       1.2904\n"
     ]
    }
   ],
   "source": [
    "const_atms_obj = sella_optimize_constrained(inp_atms_obj.copy(), calc=calc, const_coos=[(1, 3)])\n",
    "ase.io.write(file_name.replace(\".xyz\", \"_const.xyz\"), const_atms_obj)"
   ]
  }
 ],
 "metadata": {
  "kernelspec": {
   "display_name": "Python 3 (ipykernel)",
   "language": "python",
   "name": "python3"
  },
  "language_info": {
   "codemirror_mode": {
    "name": "ipython",
    "version": 3
   },
   "file_extension": ".py",
   "mimetype": "text/x-python",
   "name": "python",
   "nbconvert_exporter": "python",
   "pygments_lexer": "ipython3",
   "version": "3.12.3"
  }
 },
 "nbformat": 4,
 "nbformat_minor": 4
}
